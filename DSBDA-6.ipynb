{
 "cells": [
  {
   "cell_type": "code",
   "execution_count": 5,
   "id": "3f9425d1-aa45-4869-abef-d536726c3e68",
   "metadata": {},
   "outputs": [],
   "source": [
    "import pandas as pd\n",
    "import numpy as np\n",
    "import matplotlib.pyplot as plt\n",
    "import seaborn as sns\n"
   ]
  },
  {
   "cell_type": "code",
   "execution_count": 9,
   "id": "77421851-3ed0-4ced-8d9c-e997b417101f",
   "metadata": {},
   "outputs": [
    {
     "name": "stdout",
     "output_type": "stream",
     "text": [
      "\n",
      "\n",
      "Stats:::\n",
      "\n",
      "           Age         Salary\n",
      "max  40.000000  399785.000000\n",
      "std   2.142854  100823.365853\n",
      "\n",
      "\n",
      "Covariance: -4897.130102512965\n",
      "\n",
      "\n",
      "Same grouping:::\n",
      "\n",
      "            count           mean            std      min       25%       50%  \\\n",
      "Education                                                                      \n",
      "Bachelors  1384.0  225417.347543  101085.642035  50136.0  138229.0  230032.0   \n",
      "Masters     351.0  220149.592593   98345.186433  51513.0  139004.0  220703.0   \n",
      "PHD          63.0  221174.380952  109375.985511  50135.0  132510.0  206486.0   \n",
      "\n",
      "                75%       max  \n",
      "Education                      \n",
      "Bachelors  311550.0  399785.0  \n",
      "Masters    301576.5  398111.0  \n",
      "PHD        328008.0  399612.0  \n",
      "\n",
      "\n",
      "Counts:::\n",
      "\n",
      "Education\n",
      "Bachelors    1391\n",
      "Masters       353\n",
      "PHD            63\n",
      "Name: count, dtype: int64\n",
      "\n",
      "\n",
      "Salary boxplot:::\n",
      "\n"
     ]
    },
    {
     "data": {
      "image/png": "[encoded data removed]",
      "text/plain": [
       "<Figure size 640x480 with 1 Axes>"
      ]
     },
     "metadata": {},
     "output_type": "display_data"
    }
   ],
   "source": [
    "e2 = pd.read_csv(r\"C:\\ThirdYear_Notes\\Practicals\\DSBDA\\Employee_2.csv\")\n",
    "\n",
    "# 1. Stats: max, std, covariance(age,salary)\n",
    "print(\"\\n\")\n",
    "print(\"Stats:::\\n\")\n",
    "print(e2[['Age','Salary']].agg(['max','std']))\n",
    "\n",
    "print(\"\\n\")\n",
    "print(\"Covariance:\", e2['Age'].cov(e2['Salary']))\n",
    "\n",
    "# 2. Same grouping as before\n",
    "print(\"\\n\")\n",
    "print(\"Same grouping:::\\n\")\n",
    "print(e2.groupby('Education')['Salary'].describe())\n",
    "\n",
    "# 3. JOB_ID counts\n",
    "print(\"\\n\")\n",
    "print(\"Counts:::\\n\")\n",
    "print(e2['Education'].value_counts())\n",
    "\n",
    "# 4. Visualization (salary boxplot)\n",
    "print(\"\\n\")\n",
    "print(\"Salary boxplot:::\\n\")\n",
    "sns.boxplot(x=e2['Salary'])\n",
    "plt.show()\n"
   ]
  },
  {
   "cell_type": "code",
   "execution_count": null,
   "id": "eca16344-b92a-41cc-955a-4eeeb9615d71",
   "metadata": {},
   "outputs": [],
   "source": []
  }
 ],
 "metadata": {
  "kernelspec": {
   "display_name": "Python 3 (ipykernel)",
   "language": "python",
   "name": "python3"
  },
  "language_info": {
   "codemirror_mode": {
    "name": "ipython",
    "version": 3
   },
   "file_extension": ".py",
   "mimetype": "text/x-python",
   "name": "python",
   "nbconvert_exporter": "python",
   "pygments_lexer": "ipython3",
   "version": "3.12.1"
  }
 },
 "nbformat": 4,
 "nbformat_minor": 5
}

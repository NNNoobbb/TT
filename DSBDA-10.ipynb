{
 "cells": [
  {
   "cell_type": "code",
   "execution_count": 1,
   "id": "06318d9d-389d-4db3-b7d5-bf693c696d05",
   "metadata": {},
   "outputs": [],
   "source": [
    "import seaborn as sns\n",
    "import matplotlib.pyplot as plt\n",
    "import pandas as pd\n",
    "import numpy as np\n",
    "import matplotlib.pyplot as plt\n",
    "import seaborn as sns"
   ]
  },
  {
   "cell_type": "code",
   "execution_count": 2,
   "id": "9a319e13-1a4c-4f13-9ff5-357af937d612",
   "metadata": {},
   "outputs": [
    {
     "name": "stdout",
     "output_type": "stream",
     "text": [
      "   Hours  Outcome\n",
      "0     29        0\n",
      "1     15        0\n",
      "2     33        1\n",
      "3     48        1\n",
      "4     39        1\n",
      "Study 25 hrs → Predicted Outcome: 0 (Fail)\n",
      "Study 42 hrs → Predicted Outcome: 1 (Pass)\n",
      "\n",
      "Confusion Matrix (on training data):\n",
      "[[2 0]\n",
      " [0 3]]\n",
      "TP: 3, FP: 0, TN: 2, FN: 0\n",
      "Accuracy: 1.00\n",
      "Error Rate: 0.00\n",
      "Precision: 1.00\n",
      "Recall: 1.00\n"
     ]
    },
    {
     "name": "stderr",
     "output_type": "stream",
     "text": [
      "C:\\Python312\\Lib\\site-packages\\sklearn\\base.py:493: UserWarning: X does not have valid feature names, but LogisticRegression was fitted with feature names\n",
      "  warnings.warn(\n",
      "C:\\Python312\\Lib\\site-packages\\sklearn\\base.py:493: UserWarning: X does not have valid feature names, but LogisticRegression was fitted with feature names\n",
      "  warnings.warn(\n"
     ]
    }
   ],
   "source": [
    "# Data Analytics II-B: Predict Pass/Fail from Study Hours\n",
    "import pandas as pd\n",
    "from sklearn.linear_model import LogisticRegression\n",
    "from sklearn.metrics import confusion_matrix, accuracy_score, precision_score, recall_score\n",
    "\n",
    "# 1. Create the study-hours dataset\n",
    "data = {\n",
    "    'Hours': [29, 15, 33, 48, 39],\n",
    "    'Outcome': [0,  0,  1,  1,  1]   # 0 = Fail, 1 = Pass\n",
    "}\n",
    "study_df = pd.DataFrame(data)\n",
    "print(study_df)\n",
    "\n",
    "# 2. Fit logistic regression\n",
    "X = study_df[['Hours']]\n",
    "y = study_df['Outcome']\n",
    "model = LogisticRegression()\n",
    "model.fit(X, y)\n",
    "\n",
    "# 3. Predict for 25 and 42 hours\n",
    "for hrs in [25, 42]:\n",
    "    pred = model.predict([[hrs]])[0]\n",
    "    print(f\"Study {hrs} hrs → Predicted Outcome: {pred} ({'Pass' if pred==1 else 'Fail'})\")\n",
    "\n",
    "# 4. Confusion matrix & metrics on training data\n",
    "y_pred = model.predict(X)\n",
    "cm = confusion_matrix(y, y_pred)\n",
    "accuracy = accuracy_score(y, y_pred)\n",
    "precision = precision_score(y, y_pred)\n",
    "recall = recall_score(y, y_pred)\n",
    "tn, fp, fn, tp = cm.ravel()\n",
    "error_rate = 1 - accuracy\n",
    "\n",
    "print(\"\\nConfusion Matrix (on training data):\")\n",
    "print(cm)\n",
    "print(f\"TP: {tp}, FP: {fp}, TN: {tn}, FN: {fn}\")\n",
    "print(f\"Accuracy: {accuracy:.2f}\")\n",
    "print(f\"Error Rate: {error_rate:.2f}\")\n",
    "print(f\"Precision: {precision:.2f}\")\n",
    "print(f\"Recall: {recall:.2f}\")\n"
   ]
  }
 ],
 "metadata": {
  "kernelspec": {
   "display_name": "Python 3 (ipykernel)",
   "language": "python",
   "name": "python3"
  },
  "language_info": {
   "codemirror_mode": {
    "name": "ipython",
    "version": 3
   },
   "file_extension": ".py",
   "mimetype": "text/x-python",
   "name": "python",
   "nbconvert_exporter": "python",
   "pygments_lexer": "ipython3",
   "version": "3.12.1"
  }
 },
 "nbformat": 4,
 "nbformat_minor": 5
}

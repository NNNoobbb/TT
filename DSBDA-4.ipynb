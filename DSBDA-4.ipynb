{
 "cells": [
  {
   "cell_type": "code",
   "execution_count": 4,
   "id": "255582ee-baab-458b-9022-0377ea43ff41",
   "metadata": {},
   "outputs": [],
   "source": [
    "import pandas as pd\n",
    "import numpy as np\n",
    "from sklearn.model_selection import train_test_split\n",
    "import matplotlib.pyplot as plt\n",
    "import seaborn as sns"
   ]
  },
  {
   "cell_type": "code",
   "execution_count": 5,
   "id": "bbd7391c-fab3-49f5-aa64-68fab60d6113",
   "metadata": {},
   "outputs": [
    {
     "name": "stdout",
     "output_type": "stream",
     "text": [
      "Q1: 26.5 Q3: 74.5\n",
      "Aggregations: max     99.000000\n",
      "mean    50.479798\n",
      "Name: Roll No, dtype: float64\n"
     ]
    },
    {
     "name": "stderr",
     "output_type": "stream",
     "text": [
      "C:\\Users\\Aniket\\AppData\\Local\\Temp\\ipykernel_11512\\66746552.py:4: FutureWarning: A value is trying to be set on a copy of a DataFrame or Series through chained assignment using an inplace method.\n",
      "The behavior will change in pandas 3.0. This inplace method will never work because the intermediate object on which we are setting values always behaves as a copy.\n",
      "\n",
      "For example, when doing 'df[col].method(value, inplace=True)', try using 'df.method({col: value}, inplace=True)' or df[col] = df[col].method(value) instead, to perform the operation inplace on the original object.\n",
      "\n",
      "\n",
      "  ap3[col].fillna(ap3[col].median(), inplace=True)\n",
      "C:\\Users\\Aniket\\AppData\\Local\\Temp\\ipykernel_11512\\66746552.py:4: FutureWarning: A value is trying to be set on a copy of a DataFrame or Series through chained assignment using an inplace method.\n",
      "The behavior will change in pandas 3.0. This inplace method will never work because the intermediate object on which we are setting values always behaves as a copy.\n",
      "\n",
      "For example, when doing 'df[col].method(value, inplace=True)', try using 'df.method({col: value}, inplace=True)' or df[col] = df[col].method(value) instead, to perform the operation inplace on the original object.\n",
      "\n",
      "\n",
      "  ap3[col].fillna(ap3[col].median(), inplace=True)\n",
      "C:\\Users\\Aniket\\AppData\\Local\\Temp\\ipykernel_11512\\66746552.py:4: FutureWarning: A value is trying to be set on a copy of a DataFrame or Series through chained assignment using an inplace method.\n",
      "The behavior will change in pandas 3.0. This inplace method will never work because the intermediate object on which we are setting values always behaves as a copy.\n",
      "\n",
      "For example, when doing 'df[col].method(value, inplace=True)', try using 'df.method({col: value}, inplace=True)' or df[col] = df[col].method(value) instead, to perform the operation inplace on the original object.\n",
      "\n",
      "\n",
      "  ap3[col].fillna(ap3[col].median(), inplace=True)\n",
      "C:\\Users\\Aniket\\AppData\\Local\\Temp\\ipykernel_11512\\66746552.py:4: FutureWarning: A value is trying to be set on a copy of a DataFrame or Series through chained assignment using an inplace method.\n",
      "The behavior will change in pandas 3.0. This inplace method will never work because the intermediate object on which we are setting values always behaves as a copy.\n",
      "\n",
      "For example, when doing 'df[col].method(value, inplace=True)', try using 'df.method({col: value}, inplace=True)' or df[col] = df[col].method(value) instead, to perform the operation inplace on the original object.\n",
      "\n",
      "\n",
      "  ap3[col].fillna(ap3[col].median(), inplace=True)\n",
      "C:\\Users\\Aniket\\AppData\\Local\\Temp\\ipykernel_11512\\66746552.py:4: FutureWarning: A value is trying to be set on a copy of a DataFrame or Series through chained assignment using an inplace method.\n",
      "The behavior will change in pandas 3.0. This inplace method will never work because the intermediate object on which we are setting values always behaves as a copy.\n",
      "\n",
      "For example, when doing 'df[col].method(value, inplace=True)', try using 'df.method({col: value}, inplace=True)' or df[col] = df[col].method(value) instead, to perform the operation inplace on the original object.\n",
      "\n",
      "\n",
      "  ap3[col].fillna(ap3[col].median(), inplace=True)\n"
     ]
    },
    {
     "data": {
      "image/png": "[encoded data removed]",
      "text/plain": [
       "<Figure size 640x480 with 1 Axes>"
      ]
     },
     "metadata": {},
     "output_type": "display_data"
    }
   ],
   "source": [
    "# 1. Load & missing via median/0\n",
    "ap3 = pd.read_csv(r\"C:\\ThirdYear_Notes\\Practicals\\DSBDA\\AcademicPerformance_New.csv\")\n",
    "for col in ap3.select_dtypes(include=np.number):\n",
    "    ap3[col].fillna(ap3[col].median(), inplace=True)\n",
    "ap3.fillna(0, inplace=True)\n",
    "\n",
    "# 2. Outliers via IQR\n",
    "col = ap3.select_dtypes(include=np.number).columns[0]\n",
    "Q1, Q3 = ap3[col].quantile([0.25,0.75])\n",
    "IQR = Q3 - Q1\n",
    "ap3['outlier'] = ((ap3[col] < Q1 - 1.5*IQR) | (ap3[col] > Q3 + 1.5*IQR))\n",
    "\n",
    "# 3. Show Q1, Q3 & remove\n",
    "print(\"Q1:\", Q1, \"Q3:\", Q3)\n",
    "ap3_no = ap3[~ap3['outlier']]\n",
    "\n",
    "# 4. Aggregation & reasoning\n",
    "agg = ap3_no[col].agg(['max','mean'])\n",
    "print(\"Aggregations:\", agg)\n",
    "# Reason: scaling via mean centers data, aiding normality\n",
    "\n",
    "# 5. Scatter plot (index vs value)\n",
    "sns.scatterplot(x=ap3_no.index, y=ap3_no[col])\n",
    "plt.show()\n"
   ]
  },
  {
   "cell_type": "code",
   "execution_count": null,
   "id": "915b8620-c5f5-4b3a-bd3e-18c2edba15a9",
   "metadata": {},
   "outputs": [],
   "source": []
  }
 ],
 "metadata": {
  "kernelspec": {
   "display_name": "Python 3 (ipykernel)",
   "language": "python",
   "name": "python3"
  },
  "language_info": {
   "codemirror_mode": {
    "name": "ipython",
    "version": 3
   },
   "file_extension": ".py",
   "mimetype": "text/x-python",
   "name": "python",
   "nbconvert_exporter": "python",
   "pygments_lexer": "ipython3",
   "version": "3.12.1"
  }
 },
 "nbformat": 4,
 "nbformat_minor": 5
}

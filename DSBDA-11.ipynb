{
 "cells": [
  {
   "cell_type": "code",
   "execution_count": 4,
   "id": "2d9361b8-e2e1-42ab-85f8-2ded3a025649",
   "metadata": {},
   "outputs": [],
   "source": [
    "import pandas as pd\n",
    "import numpy as np\n",
    "import matplotlib.pyplot as plt\n",
    "import seaborn as sns\n"
   ]
  },
  {
   "cell_type": "code",
   "execution_count": 6,
   "id": "ed6d673d-4a20-4c82-afce-e06f990367be",
   "metadata": {},
   "outputs": [
    {
     "name": "stdout",
     "output_type": "stream",
     "text": [
      "Confusion Matrix:\n",
      " [[50  0  0]\n",
      " [ 0 47  3]\n",
      " [ 0  3 47]]\n",
      "Accuracy: 0.96\n"
     ]
    }
   ],
   "source": [
    "from sklearn.naive_bayes import GaussianNB\n",
    "from sklearn.metrics import confusion_matrix, accuracy_score\n",
    "\n",
    "iris = pd.read_csv(r\"C:\\ThirdYear_Notes\\Practicals\\DSBDA\\IRIS.csv\")\n",
    "Xir = iris.iloc[:,:4]\n",
    "yir = iris['species']\n",
    "nb = GaussianNB().fit(Xir, yir)\n",
    "preds = nb.predict(Xir)\n",
    "print(\"Confusion Matrix:\\n\", confusion_matrix(yir,preds))\n",
    "print(\"Accuracy:\", accuracy_score(yir,preds))\n"
   ]
  },
  {
   "cell_type": "code",
   "execution_count": null,
   "id": "fee0ec83-421e-4392-bb8a-1b25824dc962",
   "metadata": {},
   "outputs": [],
   "source": []
  }
 ],
 "metadata": {
  "kernelspec": {
   "display_name": "Python 3 (ipykernel)",
   "language": "python",
   "name": "python3"
  },
  "language_info": {
   "codemirror_mode": {
    "name": "ipython",
    "version": 3
   },
   "file_extension": ".py",
   "mimetype": "text/x-python",
   "name": "python",
   "nbconvert_exporter": "python",
   "pygments_lexer": "ipython3",
   "version": "3.12.1"
  }
 },
 "nbformat": 4,
 "nbformat_minor": 5
}

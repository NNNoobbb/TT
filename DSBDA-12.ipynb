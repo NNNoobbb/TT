{
 "cells": [
  {
   "cell_type": "code",
   "execution_count": 1,
   "id": "cde84d1d-42dd-49fc-b3c6-167b452f1025",
   "metadata": {},
   "outputs": [],
   "source": [
    "import pandas as pd\n",
    "import numpy as np\n",
    "import matplotlib.pyplot as plt\n",
    "import seaborn as sns\n"
   ]
  },
  {
   "cell_type": "code",
   "execution_count": 3,
   "id": "a86ddd25-658a-480d-8dd8-2a7d4c2a3a54",
   "metadata": {},
   "outputs": [
    {
     "name": "stdout",
     "output_type": "stream",
     "text": [
      "['Sample', 'document', 'goes', 'here', '.'] [('Sample', 'NNP'), ('document', 'NN'), ('goes', 'VBZ'), ('here', 'RB'), ('.', '.')] ['sampl', 'document', 'goe', '.'] ['Sample', 'document', 'go', '.']\n",
      "TF-IDF shape: (1, 4)\n"
     ]
    },
    {
     "name": "stderr",
     "output_type": "stream",
     "text": [
      "[nltk_data] Downloading package punkt to\n",
      "[nltk_data]     C:\\Users\\Aniket\\AppData\\Roaming\\nltk_data...\n",
      "[nltk_data]   Package punkt is already up-to-date!\n",
      "[nltk_data] Downloading package averaged_perceptron_tagger to\n",
      "[nltk_data]     C:\\Users\\Aniket\\AppData\\Roaming\\nltk_data...\n",
      "[nltk_data]   Package averaged_perceptron_tagger is already up-to-\n",
      "[nltk_data]       date!\n",
      "[nltk_data] Downloading package stopwords to\n",
      "[nltk_data]     C:\\Users\\Aniket\\AppData\\Roaming\\nltk_data...\n",
      "[nltk_data]   Package stopwords is already up-to-date!\n",
      "[nltk_data] Downloading package wordnet to\n",
      "[nltk_data]     C:\\Users\\Aniket\\AppData\\Roaming\\nltk_data...\n",
      "[nltk_data]   Package wordnet is already up-to-date!\n"
     ]
    }
   ],
   "source": [
    "import nltk\n",
    "nltk.download(['punkt','averaged_perceptron_tagger','stopwords','wordnet'])\n",
    "from nltk.tokenize import word_tokenize\n",
    "from nltk.corpus import stopwords\n",
    "from nltk.stem import PorterStemmer, WordNetLemmatizer\n",
    "from sklearn.feature_extraction.text import CountVectorizer, TfidfTransformer\n",
    "\n",
    "text = \"Sample document goes here.\"\n",
    "tokens = word_tokenize(text)\n",
    "pos = nltk.pos_tag(tokens)\n",
    "filtered = [w for w in tokens if w.lower() not in stopwords.words('english')]\n",
    "stemmed = [PorterStemmer().stem(w) for w in filtered]\n",
    "lemm = [WordNetLemmatizer().lemmatize(w) for w in filtered]\n",
    "\n",
    "cv = CountVectorizer()\n",
    "cnt = cv.fit_transform([text])\n",
    "tfidf = TfidfTransformer().fit_transform(cnt)\n",
    "\n",
    "print(tokens, pos, stemmed, lemm)\n",
    "print(\"TF-IDF shape:\", tfidf.shape)\n"
   ]
  },
  {
   "cell_type": "code",
   "execution_count": null,
   "id": "4263f193-0ffc-4a9d-aac4-0a6b51d1025e",
   "metadata": {},
   "outputs": [],
   "source": []
  }
 ],
 "metadata": {
  "kernelspec": {
   "display_name": "Python 3 (ipykernel)",
   "language": "python",
   "name": "python3"
  },
  "language_info": {
   "codemirror_mode": {
    "name": "ipython",
    "version": 3
   },
   "file_extension": ".py",
   "mimetype": "text/x-python",
   "name": "python",
   "nbconvert_exporter": "python",
   "pygments_lexer": "ipython3",
   "version": "3.12.1"
  }
 },
 "nbformat": 4,
 "nbformat_minor": 5
}

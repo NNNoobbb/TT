{
 "cells": [
  {
   "cell_type": "code",
   "execution_count": 1,
   "id": "06318d9d-389d-4db3-b7d5-bf693c696d05",
   "metadata": {},
   "outputs": [],
   "source": [
    "import seaborn as sns\n",
    "import matplotlib.pyplot as plt\n",
    "import pandas as pd\n",
    "import numpy as np"
   ]
  },
  {
   "cell_type": "code",
   "execution_count": 2,
   "id": "9a319e13-1a4c-4f13-9ff5-357af937d612",
   "metadata": {},
   "outputs": [
    {
     "name": "stdout",
     "output_type": "stream",
     "text": [
      "    User ID  Gender   Age  EstimatedSalary  Purchased\n",
      "0  15624510    Male  19.0          19000.0          0\n",
      "1  15810944    Male  35.0          20000.0          0\n",
      "2  15668575  Female  26.0          43000.0          0\n",
      "3  15603246  Female  27.0          57000.0          0\n",
      "4  15804002    Male  19.0          76000.0          0\n",
      "Confusion Matrix:\n",
      "[[71  2]\n",
      " [16 31]]\n",
      "TP: 31, FP: 2, TN: 71, FN: 16\n",
      "Accuracy: 0.85\n",
      "Error Rate: 0.15\n",
      "Precision: 0.94\n",
      "Recall: 0.66\n"
     ]
    }
   ],
   "source": [
    "# Data Analytics II-A: Classify Purchased using Age & EstimatedSalary\n",
    "from sklearn.linear_model import LogisticRegression\n",
    "from sklearn.model_selection import train_test_split\n",
    "from sklearn.metrics import confusion_matrix, accuracy_score, precision_score, recall_score\n",
    "\n",
    "# 1. Load dataset\n",
    "ads_df = pd.read_csv(r\"C:\\ThirdYear_Notes\\Practicals\\DSBDA\\Social_Network_Ads.csv\")\n",
    "#    Expected columns: 'Age', 'EstimatedSalary', 'Purchased'\n",
    "print(ads_df.head())\n",
    "\n",
    "# 2. Features and target\n",
    "X = ads_df[['Age', 'EstimatedSalary']]\n",
    "y = ads_df['Purchased']\n",
    "\n",
    "# 3. Train/test split\n",
    "X_train, X_test, y_train, y_test = train_test_split(\n",
    "    X, y, test_size=0.3, random_state=42\n",
    ")\n",
    "\n",
    "# 4. Fit logistic regression\n",
    "logreg = LogisticRegression()\n",
    "logreg.fit(X_train, y_train)\n",
    "\n",
    "# 5. Predictions\n",
    "y_pred = logreg.predict(X_test)\n",
    "\n",
    "# 6. Confusion matrix and metrics\n",
    "cm = confusion_matrix(y_test, y_pred)\n",
    "accuracy = accuracy_score(y_test, y_pred)\n",
    "precision = precision_score(y_test, y_pred)\n",
    "recall = recall_score(y_test, y_pred)\n",
    "tn, fp, fn, tp = cm.ravel()\n",
    "error_rate = 1 - accuracy\n",
    "\n",
    "print(\"Confusion Matrix:\")\n",
    "print(cm)\n",
    "print(f\"TP: {tp}, FP: {fp}, TN: {tn}, FN: {fn}\")\n",
    "print(f\"Accuracy: {accuracy:.2f}\")\n",
    "print(f\"Error Rate: {error_rate:.2f}\")\n",
    "print(f\"Precision: {precision:.2f}\")\n",
    "print(f\"Recall: {recall:.2f}\")\n"
   ]
  }
 ],
 "metadata": {
  "kernelspec": {
   "display_name": "Python 3 (ipykernel)",
   "language": "python",
   "name": "python3"
  },
  "language_info": {
   "codemirror_mode": {
    "name": "ipython",
    "version": 3
   },
   "file_extension": ".py",
   "mimetype": "text/x-python",
   "name": "python",
   "nbconvert_exporter": "python",
   "pygments_lexer": "ipython3",
   "version": "3.12.1"
  }
 },
 "nbformat": 4,
 "nbformat_minor": 5
}

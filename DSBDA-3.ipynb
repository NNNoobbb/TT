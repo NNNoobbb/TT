{
 "cells": [
  {
   "cell_type": "code",
   "execution_count": 10,
   "id": "95c35c73-aa65-42c5-8140-7d9db8e1849f",
   "metadata": {},
   "outputs": [
    {
     "data": {
      "image/png": "[encoded data removed]",
      "text/plain": [
       "<Figure size 600x400 with 1 Axes>"
      ]
     },
     "metadata": {},
     "output_type": "display_data"
    }
   ],
   "source": [
    "import pandas as pd\n",
    "import numpy as np\n",
    "import matplotlib.pyplot as plt\n",
    "import seaborn as sns\n",
    "from scipy.stats import zscore   # 1. Import zscore to compute standard scores :contentReference[oaicite:4]{index=4}\n",
    "\n",
    "# 1. Load the data\n",
    "ap2 = pd.read_csv(r\"C:\\ThirdYear_Notes\\Practicals\\DSBDA\\AcademicPerformance_New.csv\")\n",
    "\n",
    "# 2. Handle missing values:\n",
    "#    - Numeric columns: fill with column mean\n",
    "#    - Non-numeric columns: fill with column mode\n",
    "num_cols = ap2.select_dtypes(include=[np.number]).columns\n",
    "cat_cols = ap2.select_dtypes(exclude=[np.number]).columns\n",
    "\n",
    "# a) Numeric: fill via dict to avoid chained .fillna on slice\n",
    "means = ap2[num_cols].mean()\n",
    "ap2.fillna(means.to_dict(), inplace=True)   # applies mean fill to all numeric cols :contentReference[oaicite:5]{index=5}\n",
    "\n",
    "# b) Categorical: fill each column individually\n",
    "for col in cat_cols:\n",
    "    mode_val = ap2[col].mode()[0]\n",
    "    ap2[col] = ap2[col].fillna(mode_val)     # reassigning avoids chained assignment warning :contentReference[oaicite:6]{index=6}\n",
    "\n",
    "# 3. Outlier detection via Z-score on the first numeric column\n",
    "first_num = num_cols[0]\n",
    "ap2['z'] = zscore(ap2[first_num].values)     # compute z-scores :contentReference[oaicite:7]{index=7}\n",
    "\n",
    "# 4. Remove extreme outliers (|z| > 3)\n",
    "ap2_clean = ap2[ap2['z'].abs() <= 3].copy()   # .copy() ensures we work on an explicit copy :contentReference[oaicite:8]{index=8}\n",
    "\n",
    "# 5. Create bins & labels on that same numeric column\n",
    "bin_labels = ['Low', 'Medium', 'High']\n",
    "ap2_clean['bin'] = pd.cut(\n",
    "    ap2_clean[first_num],\n",
    "    bins=3,\n",
    "    labels=bin_labels\n",
    ")                                             # pd.cut for equal-width binning \n",
    "\n",
    "# 6. Boxplot of the original numeric column (cleaned data)\n",
    "plt.figure(figsize=(6,4))\n",
    "sns.boxplot(x=ap2_clean[first_num])\n",
    "plt.title(f'Box Plot of {first_num} (|z| ≤ 3)')\n",
    "plt.xlabel(first_num)\n",
    "plt.show()"
   ]
  },
  {
   "cell_type": "code",
   "execution_count": null,
   "id": "1b363b7d-24a0-458f-8615-1441fd57ac8a",
   "metadata": {},
   "outputs": [],
   "source": []
  }
 ],
 "metadata": {
  "kernelspec": {
   "display_name": "Python 3 (ipykernel)",
   "language": "python",
   "name": "python3"
  },
  "language_info": {
   "codemirror_mode": {
    "name": "ipython",
    "version": 3
   },
   "file_extension": ".py",
   "mimetype": "text/x-python",
   "name": "python",
   "nbconvert_exporter": "python",
   "pygments_lexer": "ipython3",
   "version": "3.12.1"
  }
 },
 "nbformat": 4,
 "nbformat_minor": 5
}
